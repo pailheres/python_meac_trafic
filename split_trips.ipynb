{
 "cells": [
  {
   "cell_type": "code",
   "execution_count": 1,
   "metadata": {
    "collapsed": true
   },
   "outputs": [],
   "source": [
    "import matplotlib.pyplot as plt\n",
    "import pandas as pd\n",
    "import numpy as np\n",
    "import os\n",
    "import re\n",
    "import csv\n",
    "import glob, os"
   ]
  },
  {
   "cell_type": "code",
   "execution_count": null,
   "metadata": {
    "collapsed": true
   },
   "outputs": [],
   "source": [
    "for i,chunk in enumerate(pd.read_csv('trips.csv', chunksize=100000)):\n",
    "    chunk.to_csv('chunks/trips_chunk{}.csv'.format(i))\n",
    "    print(\"numOf:\" + str(i))"
   ]
  },
  {
   "cell_type": "code",
   "execution_count": null,
   "metadata": {
    "collapsed": true
   },
   "outputs": [],
   "source": [
    "for i in range(296):\n",
    "    df = pd.read_csv('chunks/trips_chunk{}.csv'.format(i))\n",
    "    g=df.groupby('LinkId')\n",
    "    for gp in g:\n",
    "        directory = 'chunks/' + gp[0]\n",
    "        if not os.path.exists(directory):\n",
    "            os.makedirs(directory)\n",
    "    \n",
    "        filename = directory + '/' + 'chunk{}'.format(i) + '.csv'\n",
    "        print(filename)\n",
    "        gp[1].to_csv(filename)"
   ]
  },
  {
   "cell_type": "code",
   "execution_count": null,
   "metadata": {
    "collapsed": true
   },
   "outputs": [],
   "source": [
    "result = ''\n",
    "reg_compile = re.compile('chunks/LAy_65-67/chunk[0-9]+')\n",
    "for dirpath, dirnames, filenames in os.walk('chunks/'):\n",
    "    print(dirpath)\n",
    "    print(dirnames)\n",
    "    #print(filenames)\n",
    "    #result = result + [dirname for dirname in dirnames if  reg_compile.match(dirname)]"
   ]
  },
  {
   "cell_type": "code",
   "execution_count": null,
   "metadata": {
    "collapsed": true
   },
   "outputs": [],
   "source": [
    "#os.chdir(\"C:/Folder\")\n",
    "os.makedirs(\"clean\")\n",
    "reg_compile = re.compile(r'chunks\\\\(.*)\\\\')\n",
    "found_dirs = glob(\"chunks/*/\")\n",
    "for tmp_counter, tmp_dir in enumerate(found_dirs):\n",
    "    results = pd.DataFrame([])\n",
    "\n",
    "    tmp_dir = re.findall(reg_compile, tmp_dir, flags=0)[0]\n",
    "    print (tmp_dir)\n",
    "\n",
    "    interesting_files = glob(\"chunks/\"+tmp_dir+\"/*.csv\") \n",
    "    for counter, file in enumerate(interesting_files):\n",
    "        print (file)\n",
    "        namedf = pd.read_csv(file, skiprows=0, usecols=[2,3,4,5,6,7,8,9])\n",
    "        results = results.append(namedf)\n",
    " \n",
    "    results.to_csv('clean/'+tmp_dir+'.csv', index=False)"
   ]
  },
  {
   "cell_type": "code",
   "execution_count": null,
   "metadata": {
    "collapsed": true
   },
   "outputs": [],
   "source": []
  },
  {
   "cell_type": "code",
   "execution_count": 2,
   "metadata": {
    "collapsed": true
   },
   "outputs": [],
   "source": [
    "df = pd.read_csv('../data/clean/LPa_15-16.csv', skiprows=0)"
   ]
  },
  {
   "cell_type": "code",
   "execution_count": 3,
   "metadata": {},
   "outputs": [
    {
     "data": {
      "text/html": [
       "<div>\n",
       "<style>\n",
       "    .dataframe thead tr:only-child th {\n",
       "        text-align: right;\n",
       "    }\n",
       "\n",
       "    .dataframe thead th {\n",
       "        text-align: left;\n",
       "    }\n",
       "\n",
       "    .dataframe tbody tr th {\n",
       "        vertical-align: top;\n",
       "    }\n",
       "</style>\n",
       "<table border=\"1\" class=\"dataframe\">\n",
       "  <thead>\n",
       "    <tr style=\"text-align: right;\">\n",
       "      <th></th>\n",
       "      <th>LinkId</th>\n",
       "      <th>SrcDetectorId</th>\n",
       "      <th>DestDetectorId</th>\n",
       "      <th>PathDistance_m</th>\n",
       "      <th>TripStart_dt</th>\n",
       "      <th>TripEnd_dt</th>\n",
       "      <th>Speed_kmh</th>\n",
       "      <th>TravelTime_s</th>\n",
       "    </tr>\n",
       "  </thead>\n",
       "  <tbody>\n",
       "    <tr>\n",
       "      <th>0</th>\n",
       "      <td>LPa_15-16</td>\n",
       "      <td>15</td>\n",
       "      <td>16</td>\n",
       "      <td>1235</td>\n",
       "      <td>2016-01-25 15:42:31</td>\n",
       "      <td>2016-01-25 15:46:00</td>\n",
       "      <td>21.272727</td>\n",
       "      <td>209</td>\n",
       "    </tr>\n",
       "    <tr>\n",
       "      <th>1</th>\n",
       "      <td>LPa_15-16</td>\n",
       "      <td>15</td>\n",
       "      <td>16</td>\n",
       "      <td>1235</td>\n",
       "      <td>2016-01-25 15:45:31</td>\n",
       "      <td>2016-01-25 15:48:25</td>\n",
       "      <td>25.551724</td>\n",
       "      <td>174</td>\n",
       "    </tr>\n",
       "    <tr>\n",
       "      <th>2</th>\n",
       "      <td>LPa_15-16</td>\n",
       "      <td>15</td>\n",
       "      <td>16</td>\n",
       "      <td>1235</td>\n",
       "      <td>2016-01-25 15:44:23</td>\n",
       "      <td>2016-01-25 15:48:27</td>\n",
       "      <td>18.221311</td>\n",
       "      <td>244</td>\n",
       "    </tr>\n",
       "    <tr>\n",
       "      <th>3</th>\n",
       "      <td>LPa_15-16</td>\n",
       "      <td>15</td>\n",
       "      <td>16</td>\n",
       "      <td>1235</td>\n",
       "      <td>2016-01-25 16:00:39</td>\n",
       "      <td>2016-01-25 16:04:29</td>\n",
       "      <td>19.330435</td>\n",
       "      <td>230</td>\n",
       "    </tr>\n",
       "    <tr>\n",
       "      <th>4</th>\n",
       "      <td>LPa_15-16</td>\n",
       "      <td>15</td>\n",
       "      <td>16</td>\n",
       "      <td>1235</td>\n",
       "      <td>2016-01-25 16:16:54</td>\n",
       "      <td>2016-01-25 16:20:49</td>\n",
       "      <td>18.919149</td>\n",
       "      <td>235</td>\n",
       "    </tr>\n",
       "  </tbody>\n",
       "</table>\n",
       "</div>"
      ],
      "text/plain": [
       "      LinkId  SrcDetectorId  DestDetectorId  PathDistance_m  \\\n",
       "0  LPa_15-16             15              16            1235   \n",
       "1  LPa_15-16             15              16            1235   \n",
       "2  LPa_15-16             15              16            1235   \n",
       "3  LPa_15-16             15              16            1235   \n",
       "4  LPa_15-16             15              16            1235   \n",
       "\n",
       "          TripStart_dt           TripEnd_dt  Speed_kmh  TravelTime_s  \n",
       "0  2016-01-25 15:42:31  2016-01-25 15:46:00  21.272727           209  \n",
       "1  2016-01-25 15:45:31  2016-01-25 15:48:25  25.551724           174  \n",
       "2  2016-01-25 15:44:23  2016-01-25 15:48:27  18.221311           244  \n",
       "3  2016-01-25 16:00:39  2016-01-25 16:04:29  19.330435           230  \n",
       "4  2016-01-25 16:16:54  2016-01-25 16:20:49  18.919149           235  "
      ]
     },
     "execution_count": 3,
     "metadata": {},
     "output_type": "execute_result"
    }
   ],
   "source": [
    "df.head(5)"
   ]
  },
  {
   "cell_type": "code",
   "execution_count": 4,
   "metadata": {},
   "outputs": [
    {
     "name": "stderr",
     "output_type": "stream",
     "text": [
      "C:\\Users\\chris\\Anaconda3\\lib\\site-packages\\ipykernel_launcher.py:17: SettingWithCopyWarning: \n",
      "A value is trying to be set on a copy of a slice from a DataFrame.\n",
      "Try using .loc[row_indexer,col_indexer] = value instead\n",
      "\n",
      "See the caveats in the documentation: http://pandas.pydata.org/pandas-docs/stable/indexing.html#indexing-view-versus-copy\n"
     ]
    }
   ],
   "source": [
    "df['TripStart_dt'] =  pd.to_datetime(df['TripStart_dt'])\n",
    "df['TripEnd_dt'] =  pd.to_datetime(df['TripEnd_dt'])\n",
    "\n",
    "#df2 = df.head(1000000)\n",
    "df2 = df\n",
    "\n",
    "df3 = df2[['TripStart_dt', 'TripEnd_dt', 'Speed_kmh', 'TravelTime_s']]\n",
    "the_time=df3['TripStart_dt'].dt.time\n",
    "df3 = df3.assign(start_time=the_time.values)\n",
    "the_day_num=df3['TripStart_dt'].dt.weekday\n",
    "df3 = df3.assign(day_num=the_day_num.values)\n",
    "df3 = df3.sort_values(by=['start_time'])\n",
    "\n",
    "df4 = df3.loc[df3['day_num'] == 4] #0->Monday,6->sunday\n",
    "\n",
    "df3['mean'] = df3['TravelTime_s'].rolling(1000).mean()\n",
    "df4['mean'] = df4['TravelTime_s'].rolling(250).mean()\n"
   ]
  },
  {
   "cell_type": "code",
   "execution_count": 7,
   "metadata": {},
   "outputs": [],
   "source": [
    "SMALL_SIZE = 4\n",
    "MEDIUM_SIZE = 4\n",
    "BIGGER_SIZE = 6\n",
    "plt.rc('font', size=SMALL_SIZE)          # controls default text sizes\n",
    "plt.rc('axes', titlesize=SMALL_SIZE)     # fontsize of the axes title\n",
    "plt.rc('axes', labelsize=MEDIUM_SIZE)    # fontsize of the x and y labels\n",
    "plt.rc('xtick', labelsize=SMALL_SIZE)    # fontsize of the tick labels\n",
    "plt.rc('ytick', labelsize=SMALL_SIZE)    # fontsize of the tick labels\n",
    "plt.rc('legend', fontsize=SMALL_SIZE)    # legend fontsize\n",
    "plt.rc('figure', titlesize=BIGGER_SIZE)  # fontsize of the figure title\n",
    "\n",
    "ax1 = df4.plot(x='start_time',y='TravelTime_s',color='red',marker=',',lw=0)\n",
    "#ax1 = df3.plot(x='start_time',y='TravelTime_s', style='.', color='r')\n",
    "#ax1 = df3.plot(kind='scatter', x='start_time', y='TravelTime_s', style=['o', 'rx'], s=12)\n",
    "\n",
    "#pd.scatter_matrix(df3, alpha=0.2, diagonal='kde')\n",
    "df4.plot(x='start_time',y='mean', ax=ax1, lw=0.25)\n",
    "#plt.yscale('log')\n",
    "\n",
    "#plt.savefig('myplot.svg', facecolor='w')\n",
    "plt.savefig('myplot.png', figsize=(60, 30), dpi=400, facecolor='w',s=1)\n",
    "#plt.show()"
   ]
  },
  {
   "cell_type": "code",
   "execution_count": 6,
   "metadata": {},
   "outputs": [
    {
     "data": {
      "text/html": [
       "<div>\n",
       "<style>\n",
       "    .dataframe thead tr:only-child th {\n",
       "        text-align: right;\n",
       "    }\n",
       "\n",
       "    .dataframe thead th {\n",
       "        text-align: left;\n",
       "    }\n",
       "\n",
       "    .dataframe tbody tr th {\n",
       "        vertical-align: top;\n",
       "    }\n",
       "</style>\n",
       "<table border=\"1\" class=\"dataframe\">\n",
       "  <thead>\n",
       "    <tr style=\"text-align: right;\">\n",
       "      <th></th>\n",
       "      <th>TripStart_dt</th>\n",
       "      <th>TripEnd_dt</th>\n",
       "      <th>Speed_kmh</th>\n",
       "      <th>TravelTime_s</th>\n",
       "      <th>start_time</th>\n",
       "      <th>day_num</th>\n",
       "      <th>mean</th>\n",
       "    </tr>\n",
       "  </thead>\n",
       "  <tbody>\n",
       "    <tr>\n",
       "      <th>112373</th>\n",
       "      <td>2016-12-23 00:00:07</td>\n",
       "      <td>2016-12-23 00:05:58</td>\n",
       "      <td>12.666667</td>\n",
       "      <td>351</td>\n",
       "      <td>00:00:07</td>\n",
       "      <td>4</td>\n",
       "      <td>NaN</td>\n",
       "    </tr>\n",
       "    <tr>\n",
       "      <th>107515</th>\n",
       "      <td>2016-12-16 00:00:19</td>\n",
       "      <td>2016-12-16 00:18:33</td>\n",
       "      <td>4.063985</td>\n",
       "      <td>1094</td>\n",
       "      <td>00:00:19</td>\n",
       "      <td>4</td>\n",
       "      <td>NaN</td>\n",
       "    </tr>\n",
       "    <tr>\n",
       "      <th>138677</th>\n",
       "      <td>2017-02-03 00:00:22</td>\n",
       "      <td>2017-02-03 00:22:27</td>\n",
       "      <td>3.355472</td>\n",
       "      <td>1325</td>\n",
       "      <td>00:00:22</td>\n",
       "      <td>4</td>\n",
       "      <td>NaN</td>\n",
       "    </tr>\n",
       "    <tr>\n",
       "      <th>233540</th>\n",
       "      <td>2016-06-24 00:00:30</td>\n",
       "      <td>2016-06-24 00:27:08</td>\n",
       "      <td>2.782228</td>\n",
       "      <td>1598</td>\n",
       "      <td>00:00:30</td>\n",
       "      <td>4</td>\n",
       "      <td>NaN</td>\n",
       "    </tr>\n",
       "    <tr>\n",
       "      <th>233514</th>\n",
       "      <td>2016-06-24 00:00:30</td>\n",
       "      <td>2016-06-24 00:03:01</td>\n",
       "      <td>29.443709</td>\n",
       "      <td>151</td>\n",
       "      <td>00:00:30</td>\n",
       "      <td>4</td>\n",
       "      <td>NaN</td>\n",
       "    </tr>\n",
       "  </tbody>\n",
       "</table>\n",
       "</div>"
      ],
      "text/plain": [
       "              TripStart_dt          TripEnd_dt  Speed_kmh  TravelTime_s  \\\n",
       "112373 2016-12-23 00:00:07 2016-12-23 00:05:58  12.666667           351   \n",
       "107515 2016-12-16 00:00:19 2016-12-16 00:18:33   4.063985          1094   \n",
       "138677 2017-02-03 00:00:22 2017-02-03 00:22:27   3.355472          1325   \n",
       "233540 2016-06-24 00:00:30 2016-06-24 00:27:08   2.782228          1598   \n",
       "233514 2016-06-24 00:00:30 2016-06-24 00:03:01  29.443709           151   \n",
       "\n",
       "       start_time  day_num  mean  \n",
       "112373   00:00:07        4   NaN  \n",
       "107515   00:00:19        4   NaN  \n",
       "138677   00:00:22        4   NaN  \n",
       "233540   00:00:30        4   NaN  \n",
       "233514   00:00:30        4   NaN  "
      ]
     },
     "execution_count": 6,
     "metadata": {},
     "output_type": "execute_result"
    }
   ],
   "source": [
    "df4.head(5)"
   ]
  },
  {
   "cell_type": "code",
   "execution_count": null,
   "metadata": {
    "collapsed": true
   },
   "outputs": [],
   "source": []
  }
 ],
 "metadata": {
  "anaconda-cloud": {},
  "kernelspec": {
   "display_name": "Python 3",
   "language": "python",
   "name": "python3"
  },
  "language_info": {
   "codemirror_mode": {
    "name": "ipython",
    "version": 3
   },
   "file_extension": ".py",
   "mimetype": "text/x-python",
   "name": "python",
   "nbconvert_exporter": "python",
   "pygments_lexer": "ipython3",
   "version": "3.6.1"
  }
 },
 "nbformat": 4,
 "nbformat_minor": 1
}
